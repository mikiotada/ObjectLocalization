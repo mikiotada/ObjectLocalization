{
 "cells": [
  {
   "cell_type": "code",
   "execution_count": 71,
   "metadata": {},
   "outputs": [],
   "source": [
    "import os\n",
    "import pandas as pd\n",
    "import numpy as np\n",
    "import torch\n",
    "from pathlib import Path\n",
    "import torchvision\n",
    "from torch.utils.data import DataLoader\n",
    "import torch.optim as optim\n",
    "import torch.nn as nn\n",
    "import torch.nn.functional as F\n",
    "import random\n",
    "\n",
    "from PIL import Image\n",
    "from imgaug import augmenters as iaa\n",
    "import cv2"
   ]
  },
  {
   "cell_type": "code",
   "execution_count": 72,
   "metadata": {},
   "outputs": [],
   "source": [
    "# !pip3 install imgaug"
   ]
  },
  {
   "cell_type": "code",
   "execution_count": 73,
   "metadata": {},
   "outputs": [
    {
     "data": {
      "text/plain": [
       "device(type='cpu')"
      ]
     },
     "execution_count": 73,
     "metadata": {},
     "output_type": "execute_result"
    }
   ],
   "source": [
    "# Device\n",
    "DEVICE = torch.device(\"cuda:3\" if torch.cuda.is_available() else \"cpu\")\n",
    "DEVICE"
   ]
  },
  {
   "cell_type": "code",
   "execution_count": 74,
   "metadata": {},
   "outputs": [],
   "source": [
    "path2images = \"./train_validation_images\"\n",
    "path2csv = \"./data.csv\""
   ]
  },
  {
   "cell_type": "markdown",
   "metadata": {},
   "source": [
    "## Split train and validation"
   ]
  },
  {
   "cell_type": "code",
   "execution_count": 75,
   "metadata": {},
   "outputs": [
    {
     "data": {
      "text/html": [
       "<div>\n",
       "<style scoped>\n",
       "    .dataframe tbody tr th:only-of-type {\n",
       "        vertical-align: middle;\n",
       "    }\n",
       "\n",
       "    .dataframe tbody tr th {\n",
       "        vertical-align: top;\n",
       "    }\n",
       "\n",
       "    .dataframe thead th {\n",
       "        text-align: right;\n",
       "    }\n",
       "</style>\n",
       "<table border=\"1\" class=\"dataframe\">\n",
       "  <thead>\n",
       "    <tr style=\"text-align: right;\">\n",
       "      <th></th>\n",
       "      <th>images</th>\n",
       "      <th>labels</th>\n",
       "    </tr>\n",
       "  </thead>\n",
       "  <tbody>\n",
       "    <tr>\n",
       "      <th>0</th>\n",
       "      <td>1e5ac457-5800-43de-91cf-813a5a18e148.jpg</td>\n",
       "      <td>0</td>\n",
       "    </tr>\n",
       "    <tr>\n",
       "      <th>1</th>\n",
       "      <td>5e554e89-b4d6-4926-afe8-d2819693617c.jpg</td>\n",
       "      <td>0</td>\n",
       "    </tr>\n",
       "    <tr>\n",
       "      <th>2</th>\n",
       "      <td>8595f95a-5216-44c7-bdf4-dc325f230ecd.jpg</td>\n",
       "      <td>0</td>\n",
       "    </tr>\n",
       "    <tr>\n",
       "      <th>3</th>\n",
       "      <td>101b7a09-3116-4f28-afc4-e4705999a038.jpg</td>\n",
       "      <td>0</td>\n",
       "    </tr>\n",
       "    <tr>\n",
       "      <th>4</th>\n",
       "      <td>44c452dd-f004-4e6f-8a9b-dc779e4d48d2.jpg</td>\n",
       "      <td>0</td>\n",
       "    </tr>\n",
       "  </tbody>\n",
       "</table>\n",
       "</div>"
      ],
      "text/plain": [
       "                                     images  labels\n",
       "0  1e5ac457-5800-43de-91cf-813a5a18e148.jpg       0\n",
       "1  5e554e89-b4d6-4926-afe8-d2819693617c.jpg       0\n",
       "2  8595f95a-5216-44c7-bdf4-dc325f230ecd.jpg       0\n",
       "3  101b7a09-3116-4f28-afc4-e4705999a038.jpg       0\n",
       "4  44c452dd-f004-4e6f-8a9b-dc779e4d48d2.jpg       0"
      ]
     },
     "execution_count": 75,
     "metadata": {},
     "output_type": "execute_result"
    }
   ],
   "source": [
    "labels = pd.read_csv(path2csv)\n",
    "labels.head()"
   ]
  },
  {
   "cell_type": "code",
   "execution_count": 76,
   "metadata": {},
   "outputs": [
    {
     "name": "stdout",
     "output_type": "stream",
     "text": [
      "ratio of 0: 0.011026392961876833\n",
      "ratio of 1: 0.21043988269794722\n",
      "ratio of 2: 0.11835777126099707\n",
      "ratio of 3: 0.07777126099706745\n",
      "ratio of 4: 0.10932551319648094\n",
      "ratio of 5: 0.12058651026392962\n",
      "ratio of 6: 0.11718475073313783\n",
      "ratio of 7: 0.04586510263929619\n",
      "ratio of 8: 0.08961876832844574\n",
      "ratio of 9: 0.09982404692082111\n"
     ]
    }
   ],
   "source": [
    "print(f\"ratio of 0: {len(labels.loc[labels['labels']==0])/len(labels)}\")\n",
    "print(f\"ratio of 1: {len(labels.loc[labels['labels']==1])/len(labels)}\")\n",
    "print(f\"ratio of 2: {len(labels.loc[labels['labels']==2])/len(labels)}\")\n",
    "print(f\"ratio of 3: {len(labels.loc[labels['labels']==3])/len(labels)}\")\n",
    "print(f\"ratio of 4: {len(labels.loc[labels['labels']==4])/len(labels)}\")\n",
    "print(f\"ratio of 5: {len(labels.loc[labels['labels']==5])/len(labels)}\")\n",
    "print(f\"ratio of 6: {len(labels.loc[labels['labels']==6])/len(labels)}\")\n",
    "print(f\"ratio of 7: {len(labels.loc[labels['labels']==7])/len(labels)}\")\n",
    "print(f\"ratio of 8: {len(labels.loc[labels['labels']==8])/len(labels)}\")\n",
    "print(f\"ratio of 9: {len(labels.loc[labels['labels']==9])/len(labels)}\")"
   ]
  },
  {
   "cell_type": "code",
   "execution_count": 87,
   "metadata": {},
   "outputs": [],
   "source": [
    "SEED = 123\n",
    "np.random.seed(SEED)\n",
    "shuffle_idx = np.arange(len(labels))\n",
    "np.random.shuffle(shuffle_idx)\n",
    "train_size = int(len(labels)*0.8)\n",
    "train, validation = labels.iloc[shuffle_idx[:train_size],:].reset_index(), labels.iloc[shuffle_idx[train_size:],:].reset_index()\n",
    "\n"
   ]
  },
  {
   "cell_type": "code",
   "execution_count": null,
   "metadata": {},
   "outputs": [],
   "source": []
  },
  {
   "cell_type": "code",
   "execution_count": 88,
   "metadata": {},
   "outputs": [
    {
     "data": {
      "text/html": [
       "<div>\n",
       "<style scoped>\n",
       "    .dataframe tbody tr th:only-of-type {\n",
       "        vertical-align: middle;\n",
       "    }\n",
       "\n",
       "    .dataframe tbody tr th {\n",
       "        vertical-align: top;\n",
       "    }\n",
       "\n",
       "    .dataframe thead th {\n",
       "        text-align: right;\n",
       "    }\n",
       "</style>\n",
       "<table border=\"1\" class=\"dataframe\">\n",
       "  <thead>\n",
       "    <tr style=\"text-align: right;\">\n",
       "      <th></th>\n",
       "      <th>index</th>\n",
       "      <th>images</th>\n",
       "      <th>labels</th>\n",
       "    </tr>\n",
       "  </thead>\n",
       "  <tbody>\n",
       "    <tr>\n",
       "      <th>0</th>\n",
       "      <td>4575</td>\n",
       "      <td>6e2032e7-af76-48fc-9867-505fc3c490ad.jpg</td>\n",
       "      <td>5</td>\n",
       "    </tr>\n",
       "    <tr>\n",
       "      <th>1</th>\n",
       "      <td>186</td>\n",
       "      <td>11e7855f-436f-4e79-b77d-8a9b31f25ba5.jpg</td>\n",
       "      <td>1</td>\n",
       "    </tr>\n",
       "    <tr>\n",
       "      <th>2</th>\n",
       "      <td>6681</td>\n",
       "      <td>1e6f7816-0268-4689-b537-cc6cdcbf07e9.jpg</td>\n",
       "      <td>7</td>\n",
       "    </tr>\n",
       "    <tr>\n",
       "      <th>3</th>\n",
       "      <td>8498</td>\n",
       "      <td>08ca0d61-ff46-41ff-9cc2-3406f85096f0.jpg</td>\n",
       "      <td>9</td>\n",
       "    </tr>\n",
       "    <tr>\n",
       "      <th>4</th>\n",
       "      <td>4428</td>\n",
       "      <td>62b0ed2f-bff7-4649-a287-8016f332cc81.jpg</td>\n",
       "      <td>4</td>\n",
       "    </tr>\n",
       "    <tr>\n",
       "      <th>...</th>\n",
       "      <td>...</td>\n",
       "      <td>...</td>\n",
       "      <td>...</td>\n",
       "    </tr>\n",
       "    <tr>\n",
       "      <th>6815</th>\n",
       "      <td>345</td>\n",
       "      <td>6ee2bfe6-3fed-4aee-8761-9b2843185863.jpg</td>\n",
       "      <td>1</td>\n",
       "    </tr>\n",
       "    <tr>\n",
       "      <th>6816</th>\n",
       "      <td>880</td>\n",
       "      <td>e5fdff53-683e-40ff-b0bc-2eb89527424a.jpg</td>\n",
       "      <td>1</td>\n",
       "    </tr>\n",
       "    <tr>\n",
       "      <th>6817</th>\n",
       "      <td>5786</td>\n",
       "      <td>6ae19490-83af-4d97-8a08-ec6577849ece.jpg</td>\n",
       "      <td>6</td>\n",
       "    </tr>\n",
       "    <tr>\n",
       "      <th>6818</th>\n",
       "      <td>3902</td>\n",
       "      <td>a6bdd3e6-242f-4a42-ba75-f944186ddaed.jpg</td>\n",
       "      <td>4</td>\n",
       "    </tr>\n",
       "    <tr>\n",
       "      <th>6819</th>\n",
       "      <td>6781</td>\n",
       "      <td>9a6ce663-1e5a-484e-b3b2-9587f1322290.jpg</td>\n",
       "      <td>7</td>\n",
       "    </tr>\n",
       "  </tbody>\n",
       "</table>\n",
       "<p>6820 rows × 3 columns</p>\n",
       "</div>"
      ],
      "text/plain": [
       "      index                                    images  labels\n",
       "0      4575  6e2032e7-af76-48fc-9867-505fc3c490ad.jpg       5\n",
       "1       186  11e7855f-436f-4e79-b77d-8a9b31f25ba5.jpg       1\n",
       "2      6681  1e6f7816-0268-4689-b537-cc6cdcbf07e9.jpg       7\n",
       "3      8498  08ca0d61-ff46-41ff-9cc2-3406f85096f0.jpg       9\n",
       "4      4428  62b0ed2f-bff7-4649-a287-8016f332cc81.jpg       4\n",
       "...     ...                                       ...     ...\n",
       "6815    345  6ee2bfe6-3fed-4aee-8761-9b2843185863.jpg       1\n",
       "6816    880  e5fdff53-683e-40ff-b0bc-2eb89527424a.jpg       1\n",
       "6817   5786  6ae19490-83af-4d97-8a08-ec6577849ece.jpg       6\n",
       "6818   3902  a6bdd3e6-242f-4a42-ba75-f944186ddaed.jpg       4\n",
       "6819   6781  9a6ce663-1e5a-484e-b3b2-9587f1322290.jpg       7\n",
       "\n",
       "[6820 rows x 3 columns]"
      ]
     },
     "execution_count": 88,
     "metadata": {},
     "output_type": "execute_result"
    }
   ],
   "source": [
    "train"
   ]
  },
  {
   "cell_type": "code",
   "execution_count": 89,
   "metadata": {},
   "outputs": [
    {
     "data": {
      "text/html": [
       "<div>\n",
       "<style scoped>\n",
       "    .dataframe tbody tr th:only-of-type {\n",
       "        vertical-align: middle;\n",
       "    }\n",
       "\n",
       "    .dataframe tbody tr th {\n",
       "        vertical-align: top;\n",
       "    }\n",
       "\n",
       "    .dataframe thead th {\n",
       "        text-align: right;\n",
       "    }\n",
       "</style>\n",
       "<table border=\"1\" class=\"dataframe\">\n",
       "  <thead>\n",
       "    <tr style=\"text-align: right;\">\n",
       "      <th></th>\n",
       "      <th>index</th>\n",
       "      <th>images</th>\n",
       "      <th>labels</th>\n",
       "    </tr>\n",
       "  </thead>\n",
       "  <tbody>\n",
       "    <tr>\n",
       "      <th>0</th>\n",
       "      <td>4134</td>\n",
       "      <td>9b4de5f4-3b99-486b-89a7-878f088ab2bd.jpg</td>\n",
       "      <td>4</td>\n",
       "    </tr>\n",
       "    <tr>\n",
       "      <th>1</th>\n",
       "      <td>1053</td>\n",
       "      <td>e5753982-ee6e-4fee-9b34-5d631fa2d7d4.jpg</td>\n",
       "      <td>1</td>\n",
       "    </tr>\n",
       "    <tr>\n",
       "      <th>2</th>\n",
       "      <td>3284</td>\n",
       "      <td>95c114e7-17ee-49dd-aa35-b6f5815dc12c.jpg</td>\n",
       "      <td>3</td>\n",
       "    </tr>\n",
       "    <tr>\n",
       "      <th>3</th>\n",
       "      <td>5603</td>\n",
       "      <td>ac623c2f-c484-4f63-8e71-31dce8f7ea1d.jpg</td>\n",
       "      <td>6</td>\n",
       "    </tr>\n",
       "    <tr>\n",
       "      <th>4</th>\n",
       "      <td>4657</td>\n",
       "      <td>99cc2d5a-ad92-4719-8d57-feb66f8932c9.jpg</td>\n",
       "      <td>5</td>\n",
       "    </tr>\n",
       "    <tr>\n",
       "      <th>...</th>\n",
       "      <td>...</td>\n",
       "      <td>...</td>\n",
       "      <td>...</td>\n",
       "    </tr>\n",
       "    <tr>\n",
       "      <th>1700</th>\n",
       "      <td>7382</td>\n",
       "      <td>a052728b-3065-4ff6-9508-9efb4d1e0dab.jpg</td>\n",
       "      <td>8</td>\n",
       "    </tr>\n",
       "    <tr>\n",
       "      <th>1701</th>\n",
       "      <td>7763</td>\n",
       "      <td>512f85ae-e6dc-41c6-abbb-860fda404dd9.jpg</td>\n",
       "      <td>9</td>\n",
       "    </tr>\n",
       "    <tr>\n",
       "      <th>1702</th>\n",
       "      <td>5218</td>\n",
       "      <td>b568c5f4-0fa9-4c22-ab55-ee100ac5cbab.jpg</td>\n",
       "      <td>5</td>\n",
       "    </tr>\n",
       "    <tr>\n",
       "      <th>1703</th>\n",
       "      <td>1346</td>\n",
       "      <td>a9c2ad77-94fe-485b-a89f-4b7fecace3db.jpg</td>\n",
       "      <td>1</td>\n",
       "    </tr>\n",
       "    <tr>\n",
       "      <th>1704</th>\n",
       "      <td>3582</td>\n",
       "      <td>0ff891e3-c08e-4701-bed1-72f4ee73d9dd.jpg</td>\n",
       "      <td>4</td>\n",
       "    </tr>\n",
       "  </tbody>\n",
       "</table>\n",
       "<p>1705 rows × 3 columns</p>\n",
       "</div>"
      ],
      "text/plain": [
       "      index                                    images  labels\n",
       "0      4134  9b4de5f4-3b99-486b-89a7-878f088ab2bd.jpg       4\n",
       "1      1053  e5753982-ee6e-4fee-9b34-5d631fa2d7d4.jpg       1\n",
       "2      3284  95c114e7-17ee-49dd-aa35-b6f5815dc12c.jpg       3\n",
       "3      5603  ac623c2f-c484-4f63-8e71-31dce8f7ea1d.jpg       6\n",
       "4      4657  99cc2d5a-ad92-4719-8d57-feb66f8932c9.jpg       5\n",
       "...     ...                                       ...     ...\n",
       "1700   7382  a052728b-3065-4ff6-9508-9efb4d1e0dab.jpg       8\n",
       "1701   7763  512f85ae-e6dc-41c6-abbb-860fda404dd9.jpg       9\n",
       "1702   5218  b568c5f4-0fa9-4c22-ab55-ee100ac5cbab.jpg       5\n",
       "1703   1346  a9c2ad77-94fe-485b-a89f-4b7fecace3db.jpg       1\n",
       "1704   3582  0ff891e3-c08e-4701-bed1-72f4ee73d9dd.jpg       4\n",
       "\n",
       "[1705 rows x 3 columns]"
      ]
     },
     "execution_count": 89,
     "metadata": {},
     "output_type": "execute_result"
    }
   ],
   "source": [
    "validation"
   ]
  },
  {
   "cell_type": "markdown",
   "metadata": {},
   "source": [
    "# Dataset"
   ]
  },
  {
   "cell_type": "code",
   "execution_count": 90,
   "metadata": {},
   "outputs": [],
   "source": [
    "# normalize images iwth Imagenet stats\n",
    "train_mean = [0.485, 0.456, 0.406]\n",
    "train_std = [0.229, 0.224, 0.225]"
   ]
  },
  {
   "cell_type": "code",
   "execution_count": 91,
   "metadata": {},
   "outputs": [],
   "source": [
    "# augmentation  \n",
    "class ImgAugTransform:\n",
    "    def __init__(self):\n",
    "        self.aug = iaa.Sequential([\n",
    "#             iaa.Scale((224, 224)),\n",
    "            iaa.Sometimes(0.25, iaa.GaussianBlur(sigma=(0, 3.0))),\n",
    "            iaa.Fliplr(0.5),\n",
    "            iaa.Affine(rotate=(-20, 20), mode='symmetric'),\n",
    "            iaa.Sometimes(0.25,\n",
    "                      iaa.OneOf([iaa.Dropout(p=(0, 0.1)),\n",
    "                                 iaa.CoarseDropout(0.1, size_percent=0.5)])),\n",
    "            iaa.AddToHueAndSaturation(value=(-10, 10), per_channel=True)\n",
    "    ])\n",
    "      \n",
    "    def __call__(self, img):\n",
    "        img = np.array(img)\n",
    "        return self.aug.augment_image(img)\n",
    "    \n",
    "custom_transfomrs = torchvision.transforms.Compose([\n",
    "    ImgAugTransform(),\n",
    "    torchvision.transforms.ToTensor(),\n",
    "    torchvision.transforms.Normalize(mean=train_mean, std=train_std) \n",
    "])"
   ]
  },
  {
   "cell_type": "code",
   "execution_count": 92,
   "metadata": {},
   "outputs": [],
   "source": [
    "class MedicalImg():\n",
    "    def __init__(self, dataframe, path2images, transform=False):\n",
    "        self.img_file = path2images\n",
    "        self.img_id = dataframe['images']\n",
    "        self.y = dataframe['labels']\n",
    "        self.transform = transform\n",
    "        \n",
    "    def __getitem__(self, index):\n",
    "        img = Image.open(os.path.join(self.img_file, self.img_id[index]))\n",
    "        \n",
    "        label = self.y[index]\n",
    "        \n",
    "        if self.transform is not None:\n",
    "            img = self.transform(img)\n",
    "            \n",
    "        return img, label\n",
    "    \n",
    "    def __len__(self):\n",
    "        return self.y.shape[0]"
   ]
  },
  {
   "cell_type": "markdown",
   "metadata": {},
   "source": [
    "## setting "
   ]
  },
  {
   "cell_type": "code",
   "execution_count": 93,
   "metadata": {},
   "outputs": [],
   "source": [
    "BATCH_SIZE = 3"
   ]
  },
  {
   "cell_type": "code",
   "execution_count": 94,
   "metadata": {},
   "outputs": [],
   "source": [
    "train_data = MedicalImg(train, path2images, transform=custom_transfomrs)\n",
    "validation_data = MedicalImg(validation, path2images, transform=custom_transfomrs)"
   ]
  },
  {
   "cell_type": "code",
   "execution_count": 95,
   "metadata": {},
   "outputs": [
    {
     "data": {
      "text/plain": [
       "(6820, 1705)"
      ]
     },
     "execution_count": 95,
     "metadata": {},
     "output_type": "execute_result"
    }
   ],
   "source": [
    "len(train_data), len(validation_data)"
   ]
  },
  {
   "cell_type": "code",
   "execution_count": 103,
   "metadata": {},
   "outputs": [],
   "source": [
    "train_loader = DataLoader(train_data, batch_size=BATCH_SIZE, shuffle=True)\n",
    "validation_loader = DataLoader(validation_data, batch_size=BATCH_SIZE)"
   ]
  },
  {
   "cell_type": "code",
   "execution_count": null,
   "metadata": {},
   "outputs": [],
   "source": []
  }
 ],
 "metadata": {
  "kernelspec": {
   "display_name": "Python 3",
   "language": "python",
   "name": "python3"
  },
  "language_info": {
   "codemirror_mode": {
    "name": "ipython",
    "version": 3
   },
   "file_extension": ".py",
   "mimetype": "text/x-python",
   "name": "python",
   "nbconvert_exporter": "python",
   "pygments_lexer": "ipython3",
   "version": "3.7.7"
  }
 },
 "nbformat": 4,
 "nbformat_minor": 4
}
