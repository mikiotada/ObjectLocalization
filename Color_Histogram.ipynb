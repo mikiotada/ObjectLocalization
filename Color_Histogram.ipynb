{
 "cells": [
  {
   "cell_type": "code",
   "execution_count": 11,
   "metadata": {},
   "outputs": [],
   "source": [
    "import os \n",
    "import numpy as np\n",
    "import cv2\n",
    "\n",
    "from matplotlib import pyplot as plt"
   ]
  },
  {
   "cell_type": "code",
   "execution_count": 3,
   "metadata": {},
   "outputs": [],
   "source": [
    "path2image = \"croptest.jpg\""
   ]
  },
  {
   "cell_type": "code",
   "execution_count": 42,
   "metadata": {},
   "outputs": [],
   "source": [
    "# just how it works for one image\n",
    "image = cv2.imread(path2image)\n",
    "# print(image.shape)\n",
    "chans = cv2.split(image)\n",
    "colors = (\"B\", \"G\", \"R\")\n",
    "\n",
    "hist_list = []\n",
    "for chan, color in zip(chans, colors):\n",
    "    hist = cv2.calcHist([chan], [0], None, [256], [0,256])\n",
    "    hist_list.append(hist)"
   ]
  },
  {
   "cell_type": "code",
   "execution_count": 43,
   "metadata": {},
   "outputs": [
    {
     "data": {
      "text/plain": [
       "array([[2.731e+03],\n",
       "       [1.759e+03],\n",
       "       [3.045e+03],\n",
       "       [4.630e+03],\n",
       "       [5.234e+03],\n",
       "       [7.980e+02],\n",
       "       [3.420e+02],\n",
       "       [3.320e+02],\n",
       "       [3.510e+02],\n",
       "       [3.170e+02],\n",
       "       [4.580e+02],\n",
       "       [4.780e+02],\n",
       "       [7.290e+02],\n",
       "       [7.850e+02],\n",
       "       [7.810e+02],\n",
       "       [8.000e+02],\n",
       "       [7.900e+02],\n",
       "       [5.240e+02],\n",
       "       [3.950e+02],\n",
       "       [3.640e+02],\n",
       "       [3.480e+02],\n",
       "       [3.720e+02],\n",
       "       [3.880e+02],\n",
       "       [3.950e+02],\n",
       "       [4.230e+02],\n",
       "       [3.810e+02],\n",
       "       [4.740e+02],\n",
       "       [4.870e+02],\n",
       "       [5.120e+02],\n",
       "       [5.670e+02],\n",
       "       [6.030e+02],\n",
       "       [6.610e+02],\n",
       "       [6.920e+02],\n",
       "       [8.470e+02],\n",
       "       [8.540e+02],\n",
       "       [8.910e+02],\n",
       "       [9.780e+02],\n",
       "       [1.071e+03],\n",
       "       [1.183e+03],\n",
       "       [1.305e+03],\n",
       "       [1.332e+03],\n",
       "       [1.392e+03],\n",
       "       [1.482e+03],\n",
       "       [1.588e+03],\n",
       "       [1.669e+03],\n",
       "       [1.819e+03],\n",
       "       [1.810e+03],\n",
       "       [1.795e+03],\n",
       "       [1.898e+03],\n",
       "       [1.955e+03],\n",
       "       [2.047e+03],\n",
       "       [2.135e+03],\n",
       "       [2.265e+03],\n",
       "       [2.327e+03],\n",
       "       [2.415e+03],\n",
       "       [2.470e+03],\n",
       "       [2.576e+03],\n",
       "       [2.675e+03],\n",
       "       [2.840e+03],\n",
       "       [3.040e+03],\n",
       "       [3.084e+03],\n",
       "       [3.204e+03],\n",
       "       [3.377e+03],\n",
       "       [3.585e+03],\n",
       "       [3.748e+03],\n",
       "       [3.996e+03],\n",
       "       [4.084e+03],\n",
       "       [4.411e+03],\n",
       "       [4.488e+03],\n",
       "       [4.792e+03],\n",
       "       [4.870e+03],\n",
       "       [4.996e+03],\n",
       "       [5.032e+03],\n",
       "       [5.208e+03],\n",
       "       [5.236e+03],\n",
       "       [5.178e+03],\n",
       "       [5.266e+03],\n",
       "       [5.046e+03],\n",
       "       [5.169e+03],\n",
       "       [5.059e+03],\n",
       "       [4.871e+03],\n",
       "       [4.700e+03],\n",
       "       [4.485e+03],\n",
       "       [4.387e+03],\n",
       "       [4.222e+03],\n",
       "       [4.180e+03],\n",
       "       [3.937e+03],\n",
       "       [3.723e+03],\n",
       "       [3.643e+03],\n",
       "       [3.446e+03],\n",
       "       [3.356e+03],\n",
       "       [3.163e+03],\n",
       "       [3.069e+03],\n",
       "       [2.942e+03],\n",
       "       [2.836e+03],\n",
       "       [2.610e+03],\n",
       "       [2.487e+03],\n",
       "       [2.386e+03],\n",
       "       [2.214e+03],\n",
       "       [2.052e+03],\n",
       "       [1.992e+03],\n",
       "       [1.892e+03],\n",
       "       [1.705e+03],\n",
       "       [1.561e+03],\n",
       "       [1.368e+03],\n",
       "       [1.320e+03],\n",
       "       [1.212e+03],\n",
       "       [1.144e+03],\n",
       "       [1.085e+03],\n",
       "       [1.033e+03],\n",
       "       [9.750e+02],\n",
       "       [8.880e+02],\n",
       "       [8.810e+02],\n",
       "       [8.300e+02],\n",
       "       [7.440e+02],\n",
       "       [7.400e+02],\n",
       "       [6.930e+02],\n",
       "       [6.310e+02],\n",
       "       [5.990e+02],\n",
       "       [5.600e+02],\n",
       "       [6.180e+02],\n",
       "       [5.430e+02],\n",
       "       [5.530e+02],\n",
       "       [5.600e+02],\n",
       "       [5.120e+02],\n",
       "       [4.480e+02],\n",
       "       [4.940e+02],\n",
       "       [4.760e+02],\n",
       "       [3.960e+02],\n",
       "       [4.610e+02],\n",
       "       [4.280e+02],\n",
       "       [4.490e+02],\n",
       "       [4.240e+02],\n",
       "       [4.050e+02],\n",
       "       [4.170e+02],\n",
       "       [4.230e+02],\n",
       "       [4.440e+02],\n",
       "       [4.600e+02],\n",
       "       [4.330e+02],\n",
       "       [4.940e+02],\n",
       "       [5.170e+02],\n",
       "       [5.570e+02],\n",
       "       [6.480e+02],\n",
       "       [1.117e+03],\n",
       "       [1.330e+03],\n",
       "       [2.942e+03],\n",
       "       [3.638e+03],\n",
       "       [3.151e+03],\n",
       "       [3.200e+03],\n",
       "       [3.256e+03],\n",
       "       [2.163e+03],\n",
       "       [1.036e+03],\n",
       "       [5.540e+02],\n",
       "       [2.620e+02],\n",
       "       [1.910e+02],\n",
       "       [1.800e+02],\n",
       "       [1.830e+02],\n",
       "       [1.720e+02],\n",
       "       [1.640e+02],\n",
       "       [1.640e+02],\n",
       "       [1.610e+02],\n",
       "       [1.650e+02],\n",
       "       [1.520e+02],\n",
       "       [1.770e+02],\n",
       "       [1.380e+02],\n",
       "       [1.610e+02],\n",
       "       [1.450e+02],\n",
       "       [1.570e+02],\n",
       "       [1.450e+02],\n",
       "       [1.790e+02],\n",
       "       [1.660e+02],\n",
       "       [1.440e+02],\n",
       "       [1.940e+02],\n",
       "       [1.320e+02],\n",
       "       [1.560e+02],\n",
       "       [1.360e+02],\n",
       "       [1.540e+02],\n",
       "       [1.460e+02],\n",
       "       [1.510e+02],\n",
       "       [1.190e+02],\n",
       "       [1.240e+02],\n",
       "       [1.340e+02],\n",
       "       [1.080e+02],\n",
       "       [1.170e+02],\n",
       "       [1.100e+02],\n",
       "       [1.100e+02],\n",
       "       [9.600e+01],\n",
       "       [9.600e+01],\n",
       "       [9.400e+01],\n",
       "       [1.040e+02],\n",
       "       [1.230e+02],\n",
       "       [9.600e+01],\n",
       "       [8.600e+01],\n",
       "       [8.600e+01],\n",
       "       [8.500e+01],\n",
       "       [7.200e+01],\n",
       "       [5.900e+01],\n",
       "       [4.800e+01],\n",
       "       [5.000e+01],\n",
       "       [7.500e+01],\n",
       "       [4.800e+01],\n",
       "       [5.100e+01],\n",
       "       [4.800e+01],\n",
       "       [3.900e+01],\n",
       "       [4.300e+01],\n",
       "       [3.700e+01],\n",
       "       [3.100e+01],\n",
       "       [3.300e+01],\n",
       "       [4.300e+01],\n",
       "       [4.400e+01],\n",
       "       [4.000e+01],\n",
       "       [4.000e+01],\n",
       "       [4.300e+01],\n",
       "       [3.100e+01],\n",
       "       [3.400e+01],\n",
       "       [4.600e+01],\n",
       "       [4.000e+01],\n",
       "       [4.500e+01],\n",
       "       [4.200e+01],\n",
       "       [3.000e+01],\n",
       "       [3.100e+01],\n",
       "       [3.300e+01],\n",
       "       [2.500e+01],\n",
       "       [3.200e+01],\n",
       "       [2.600e+01],\n",
       "       [3.700e+01],\n",
       "       [2.300e+01],\n",
       "       [1.800e+01],\n",
       "       [2.100e+01],\n",
       "       [1.600e+01],\n",
       "       [1.400e+01],\n",
       "       [1.300e+01],\n",
       "       [1.900e+01],\n",
       "       [1.000e+01],\n",
       "       [1.400e+01],\n",
       "       [1.300e+01],\n",
       "       [1.300e+01],\n",
       "       [7.000e+00],\n",
       "       [1.200e+01],\n",
       "       [6.000e+00],\n",
       "       [1.600e+01],\n",
       "       [1.600e+01],\n",
       "       [1.400e+01],\n",
       "       [9.000e+00],\n",
       "       [1.400e+01],\n",
       "       [1.000e+01],\n",
       "       [1.000e+01],\n",
       "       [6.000e+00],\n",
       "       [2.000e+00],\n",
       "       [0.000e+00],\n",
       "       [2.000e+00],\n",
       "       [0.000e+00],\n",
       "       [0.000e+00],\n",
       "       [0.000e+00],\n",
       "       [0.000e+00],\n",
       "       [0.000e+00]], dtype=float32)"
      ]
     },
     "execution_count": 43,
     "metadata": {},
     "output_type": "execute_result"
    }
   ],
   "source": [
    "hist_list[0]"
   ]
  },
  {
   "cell_type": "code",
   "execution_count": 61,
   "metadata": {},
   "outputs": [
    {
     "data": {
      "text/plain": [
       "256"
      ]
     },
     "execution_count": 61,
     "metadata": {},
     "output_type": "execute_result"
    }
   ],
   "source": [
    "len(hist_list[0])"
   ]
  },
  {
   "cell_type": "code",
   "execution_count": 44,
   "metadata": {},
   "outputs": [
    {
     "data": {
      "image/png": "[encoded data removed]",
      "text/plain": [
       "<Figure size 432x288 with 1 Axes>"
      ]
     },
     "metadata": {
      "needs_background": "light"
     },
     "output_type": "display_data"
    }
   ],
   "source": [
    "plt.plot(hist_list[0], color=\"blue\")\n",
    "plt.plot(hist_list[1], color=\"green\")\n",
    "plt.plot(hist_list[2], color=\"red\")\n",
    "plt.title(\"Color Histogram\")\n",
    "plt.xlabel(\"Value of Pixel\")\n",
    "plt.ylabel(\"# of Pixels\")\n",
    "plt.xlim([0, 256])\n",
    "plt.show()"
   ]
  },
  {
   "cell_type": "code",
   "execution_count": 46,
   "metadata": {},
   "outputs": [
    {
     "data": {
      "image/png": "[encoded data removed]",
      "text/plain": [
       "<Figure size 432x288 with 1 Axes>"
      ]
     },
     "metadata": {
      "needs_background": "light"
     },
     "output_type": "display_data"
    }
   ],
   "source": [
    "# easy sample color histogram\n",
    "path2test = \"./images/images/sample_test.jpg\"\n",
    "image = cv2.imread(path2test)\n",
    "# print(image.shape)\n",
    "chans = cv2.split(image)\n",
    "colors = (\"B\", \"G\", \"R\")\n",
    "\n",
    "hist_list = []\n",
    "for chan, color in zip(chans, colors):\n",
    "    hist = cv2.calcHist([chan], [0], None, [256], [0,256])\n",
    "    hist_list.append(hist)\n",
    "plt.plot(hist_list[0], color=\"blue\")\n",
    "plt.plot(hist_list[1], color=\"green\")\n",
    "plt.plot(hist_list[2], color=\"red\")\n",
    "plt.title(\"Color Histogram\")\n",
    "plt.xlabel(\"Value of Pixel\")\n",
    "plt.ylabel(\"# of Pixels\")\n",
    "plt.xlim([0, 256])\n",
    "plt.show()"
   ]
  },
  {
   "cell_type": "code",
   "execution_count": 47,
   "metadata": {},
   "outputs": [],
   "source": [
    "## get average number of pixels for each value of pixel on test_images and train_validation images set\n",
    "path2test = \"./segmented-images/test_images/\"\n",
    "path2train_validation = \"./train_validation_images/\""
   ]
  },
  {
   "cell_type": "code",
   "execution_count": 91,
   "metadata": {},
   "outputs": [],
   "source": [
    "colors = (\"B\", \"G\", \"R\")\n",
    "\n",
    "lists_three_channels_per_image = []\n",
    "for file in os.listdir(path2test):\n",
    "    image = cv2.imread(path2test+file)\n",
    "    resized = cv2.resize(image, (530, 570), interpolation=cv2.INTER_AREA)\n",
    "    chans = cv2.split(resized)\n",
    "    \n",
    "    three_channels_per_image = []\n",
    "    for chan, color in zip(chans, colors):\n",
    "        hist = cv2.calcHist([chan], [0], None, [256], [0,256])\n",
    "        three_channels_per_image.append(hist)\n",
    "    lists_three_channels_per_image.append(three_channels_per_image)"
   ]
  },
  {
   "cell_type": "code",
   "execution_count": 54,
   "metadata": {},
   "outputs": [
    {
     "data": {
      "text/plain": [
       "1000"
      ]
     },
     "execution_count": 54,
     "metadata": {},
     "output_type": "execute_result"
    }
   ],
   "source": [
    "len(lists_three_channels_per_image)"
   ]
  },
  {
   "cell_type": "code",
   "execution_count": 56,
   "metadata": {},
   "outputs": [],
   "source": [
    "lists_three_channels_per_image = np.array(lists_three_channels_per_image)"
   ]
  },
  {
   "cell_type": "code",
   "execution_count": 57,
   "metadata": {},
   "outputs": [],
   "source": [
    "sample = lists_three_channels_per_image[:3]"
   ]
  },
  {
   "cell_type": "code",
   "execution_count": 78,
   "metadata": {},
   "outputs": [],
   "source": [
    "sample1 = sample[0]\n",
    "sample2 = sample[1]\n",
    "sample3 = sample[2]"
   ]
  },
  {
   "cell_type": "code",
   "execution_count": 80,
   "metadata": {},
   "outputs": [],
   "source": [
    "blue1 = sample1[0]\n",
    "blue2 = sample2[0]\n",
    "blue3 = sample3[0]"
   ]
  },
  {
   "cell_type": "code",
   "execution_count": 84,
   "metadata": {},
   "outputs": [
    {
     "data": {
      "text/plain": [
       "array([40977.332], dtype=float32)"
      ]
     },
     "execution_count": 84,
     "metadata": {},
     "output_type": "execute_result"
    }
   ],
   "source": [
    "(blue1[0]+blue2[0]+blue3[0])/3"
   ]
  },
  {
   "cell_type": "code",
   "execution_count": 92,
   "metadata": {},
   "outputs": [
    {
     "name": "stdout",
     "output_type": "stream",
     "text": [
      "3\n",
      "[42764.246]\n"
     ]
    },
    {
     "data": {
      "image/png": "[encoded data removed]",
      "text/plain": [
       "<Figure size 432x288 with 1 Axes>"
      ]
     },
     "metadata": {
      "needs_background": "light"
     },
     "output_type": "display_data"
    }
   ],
   "source": [
    "axis0 = np.mean(lists_three_channels_per_image, axis=0)\n",
    "print(len(axis0))\n",
    "blue = axis0[0]\n",
    "print(blue[0])\n",
    "green = axis0[1]\n",
    "red = axis0[2]\n",
    "\n",
    "plt.plot(blue, color=\"blue\")\n",
    "plt.plot(green, color=\"green\")\n",
    "plt.plot(red, color=\"red\")\n",
    "plt.title(\"Color Histogram\")\n",
    "plt.xlabel(\"Value of Pixel\")\n",
    "plt.ylabel(\"# of Pixels\")\n",
    "plt.xlim([-10, 260])\n",
    "# plt.show()\n",
    "\n",
    "plt.savefig('color_histogram_test.png')"
   ]
  },
  {
   "cell_type": "code",
   "execution_count": null,
   "metadata": {},
   "outputs": [],
   "source": []
  },
  {
   "cell_type": "code",
   "execution_count": 93,
   "metadata": {},
   "outputs": [
    {
     "name": "stdout",
     "output_type": "stream",
     "text": [
      "3\n",
      "[9930.957]\n"
     ]
    },
    {
     "data": {
      "image/png": "[encoded data removed]",
      "text/plain": [
       "<Figure size 432x288 with 1 Axes>"
      ]
     },
     "metadata": {
      "needs_background": "light"
     },
     "output_type": "display_data"
    }
   ],
   "source": [
    "## on train_validation \n",
    "lists_three_channels_per_image = []\n",
    "for file in os.listdir(path2train_validation):\n",
    "    image = cv2.imread(path2train_validation+file)\n",
    "    resized = cv2.resize(image, (530, 570), interpolation=cv2.INTER_AREA)\n",
    "    chans = cv2.split(resized)\n",
    "    \n",
    "    three_channels_per_image = []\n",
    "    for chan, color in zip(chans, colors):\n",
    "        hist = cv2.calcHist([chan], [0], None, [256], [0,256])\n",
    "        three_channels_per_image.append(hist)\n",
    "    lists_three_channels_per_image.append(three_channels_per_image)\n",
    "    \n",
    "axis0 = np.mean(lists_three_channels_per_image, axis=0)\n",
    "print(len(axis0))\n",
    "blue = axis0[0]\n",
    "print(blue[0])\n",
    "green = axis0[1]\n",
    "red = axis0[2]\n",
    "\n",
    "plt.plot(blue, color=\"blue\")\n",
    "plt.plot(green, color=\"green\")\n",
    "plt.plot(red, color=\"red\")\n",
    "plt.title(\"Color Histogram\")\n",
    "plt.xlabel(\"Value of Pixel\")\n",
    "plt.ylabel(\"# of Pixels\")\n",
    "plt.xlim([-10, 260])\n",
    "# plt.show()\n",
    "\n",
    "plt.savefig('color_histogram_train_validation.png')"
   ]
  },
  {
   "cell_type": "code",
   "execution_count": null,
   "metadata": {},
   "outputs": [],
   "source": []
  }
 ],
 "metadata": {
  "kernelspec": {
   "display_name": "Python 3",
   "language": "python",
   "name": "python3"
  },
  "language_info": {
   "codemirror_mode": {
    "name": "ipython",
    "version": 3
   },
   "file_extension": ".py",
   "mimetype": "text/x-python",
   "name": "python",
   "nbconvert_exporter": "python",
   "pygments_lexer": "ipython3",
   "version": "3.7.7"
  }
 },
 "nbformat": 4,
 "nbformat_minor": 4
}
